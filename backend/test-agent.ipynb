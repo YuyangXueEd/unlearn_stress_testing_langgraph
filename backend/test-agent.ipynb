{
 "cells": [
  {
   "cell_type": "code",
   "execution_count": 11,
   "metadata": {},
   "outputs": [],
   "source": [
    "from agent import graph\n",
    "\n",
    "state = graph.invoke({\"messages\": [{\"role\": \"user\", \"content\": \"What's the weather in Edinburgh today?\"}], \"max_research_loops\": 3, \"initial_search_query_count\": 3})"
   ]
  },
  {
   "cell_type": "code",
   "execution_count": 12,
   "metadata": {},
   "outputs": [
    {
     "data": {
      "text/plain": [
       "{'messages': [HumanMessage(content=\"What's the weather in Edinburgh today?\", additional_kwargs={}, response_metadata={}, id='5b867550-fe51-4ee4-95e3-4d21ff25b402'),\n",
       "  AIMessage(content='Today in Edinburgh, the weather is expected to start with a mix of sunny spells, patchy clouds, and isolated showers during the morning hours. As the afternoon progresses, the weather should become largely dry with extensive sunshine, especially in central and southern parts of Scotland. Winds are expected to be gentle to moderate throughout the day. Temperatures this morning are around 12°C (54°F), with similar conditions expected to persist through the day. Tonight, eastern and southern areas will remain mostly dry with clear skies. Overall, it should feel pleasantly mild with good visibility for much of the day (Met Office, https://weather.metoffice.gov.uk/forecast/gcvwr3zrw; BBC Weather, https://www.bbc.com/weather/2650225; FlightStats, https://www.flightstats.com/v2/airport-conditions/EDI; Time and Date, https://www.timeanddate.com/weather/uk/edinburgh/hourly).', additional_kwargs={}, response_metadata={}, id='2f8ffe9d-7509-44fc-ba2f-5a455604c2af')],\n",
       " 'search_query': ['Edinburgh current weather June 10 2025',\n",
       "  'What are the current weather conditions for Edinburgh today, including temperature, precipitation, wind speed, humidity, and any active weather warnings?'],\n",
       " 'web_research_result': ['Edinburgh (Edinburgh) weather - Met Office: Edinburgh 7 day weather forecast including weather warnings, temperature, rain ... Updated 04:00 (UTC+1) on Tue 10 Jun 2025. Dumfries, Galloway, Lothian\\xa0... (https://weather.metoffice.gov.uk/forecast/gcvwr3zrw)\\nAurora Dashboard (Experimental) | NOAA / NWS Space Weather ...: Tuesday, June 10, 2025 00:00:05 UTC. Main menu. Home · About Space Weather ... Radio Blackout Forecast for Jun 07-Jun 09 2025 Jun 07 Jun 08 Jun 09 R1-R2 35\\xa0... (https://www.swpc.noaa.gov/communities/aurora-dashboard-experimental)\\nEdinburgh - BBC Weather: Latest forecast for Edinburgh, Fife & East of Scotland ... This morning will bring a mix of sunny spells, patchy cloud and isolated showers. In the afternoon,\\xa0... (https://www.bbc.com/weather/2650225)\\nHourly forecast for Edinburgh, Scotland, United Kingdom: Detailed Hourly Forecast — Next 24 hours ; * Updated Tuesday, June 10, 2025 2:03:00 am Edinburgh time - Weather by CustomWeather, © 2025 ; * Updated Tuesday, June\\xa0... (https://www.timeanddate.com/weather/uk/edinburgh/hourly)\\nEDI - Edinburgh Airport Current Weather and Airport Delay Conditions: EDI - Edinburgh Airport Current Conditions. Edinburgh, GB. 10-Jun-2025. 10-Jun ... Current Weather Conditions. veryRainy. Few clouds. 54°F(12°C). Created with\\xa0... (https://www.flightstats.com/v2/airport-conditions/EDI)',\n",
       "  'Edinburgh - BBC Weather: In the afternoon, central and southern Scotland will become dry with extensive sunshine. Gentle or moderate winds. Tonight. Tonight, eastern and southern\\xa0... (https://www.bbc.com/weather/2650225)\\nEdinburgh (Edinburgh) weather - Met Office: Edinburgh 7 day weather forecast including weather warnings, temperature, rain, wind, visibility, humidity and UV. (https://weather.metoffice.gov.uk/forecast/gcvwr3zrw)\\n7-Day Forecast 39.36N 85.96W: Current conditions at. Columbus / Bakalar (KBAK). Lat: 39.27°NLon: 85.9°WElev: 656ft. Mostly Cloudy. 70°F. 21°C. Humidity, 78%. Wind Speed, NE 6 mph. (https://forecast.weather.gov/MapClick.php?lat=39.35422&lon=-85.96666)\\nMet Office: Weather and climate change: Met Office weather forecasts for the UK. World leading weather services for the public. (https://www.metoffice.gov.uk/)\\n7-Day Forecast 35.73N 83.49W: Areas of Excessive Rainfall and Dangerous Heat · Sevierville Gatlinburg - Pigeon Forge Airport (KGKT) · Gatlinburg TN · Detailed Forecast · Additional Forecasts and\\xa0... (https://forecast.weather.gov/MapClick.php?site=mrx&map.x=193&map.y=181)'],\n",
       " 'vectorstore_results': [],\n",
       " 'sources_gathered': [{'label': 'Edinburgh (Edinburgh) weather - Met Office',\n",
       "   'short_url': 'https://weather.metoffice.gov.uk/forecast/gcvwr3zrw',\n",
       "   'value': 'https://weather.metoffice.gov.uk/forecast/gcvwr3zrw'},\n",
       "  {'label': 'Aurora Dashboard (Experimental) | NOAA / NWS Space Weather ...',\n",
       "   'short_url': 'https://www.swpc.noaa.gov/communities/aurora-dashboard-experimental',\n",
       "   'value': 'https://www.swpc.noaa.gov/communities/aurora-dashboard-experimental'},\n",
       "  {'label': 'Edinburgh - BBC Weather',\n",
       "   'short_url': 'https://www.bbc.com/weather/2650225',\n",
       "   'value': 'https://www.bbc.com/weather/2650225'},\n",
       "  {'label': 'Hourly forecast for Edinburgh, Scotland, United Kingdom',\n",
       "   'short_url': 'https://www.timeanddate.com/weather/uk/edinburgh/hourly',\n",
       "   'value': 'https://www.timeanddate.com/weather/uk/edinburgh/hourly'},\n",
       "  {'label': 'EDI - Edinburgh Airport Current Weather and Airport Delay Conditions',\n",
       "   'short_url': 'https://www.flightstats.com/v2/airport-conditions/EDI',\n",
       "   'value': 'https://www.flightstats.com/v2/airport-conditions/EDI'},\n",
       "  {'label': 'Edinburgh - BBC Weather',\n",
       "   'short_url': 'https://www.bbc.com/weather/2650225',\n",
       "   'value': 'https://www.bbc.com/weather/2650225'},\n",
       "  {'label': 'Edinburgh (Edinburgh) weather - Met Office',\n",
       "   'short_url': 'https://weather.metoffice.gov.uk/forecast/gcvwr3zrw',\n",
       "   'value': 'https://weather.metoffice.gov.uk/forecast/gcvwr3zrw'},\n",
       "  {'label': '7-Day Forecast 39.36N 85.96W',\n",
       "   'short_url': 'https://forecast.weather.gov/MapClick.php?lat=39.35422&lon=-85.96666',\n",
       "   'value': 'https://forecast.weather.gov/MapClick.php?lat=39.35422&lon=-85.96666'},\n",
       "  {'label': 'Met Office: Weather and climate change',\n",
       "   'short_url': 'https://www.metoffice.gov.uk/',\n",
       "   'value': 'https://www.metoffice.gov.uk/'},\n",
       "  {'label': '7-Day Forecast 35.73N 83.49W',\n",
       "   'short_url': 'https://forecast.weather.gov/MapClick.php?site=mrx&map.x=193&map.y=181',\n",
       "   'value': 'https://forecast.weather.gov/MapClick.php?site=mrx&map.x=193&map.y=181'},\n",
       "  {'label': 'Edinburgh (Edinburgh) weather - Met Office',\n",
       "   'short_url': 'https://weather.metoffice.gov.uk/forecast/gcvwr3zrw',\n",
       "   'value': 'https://weather.metoffice.gov.uk/forecast/gcvwr3zrw'},\n",
       "  {'label': 'Aurora Dashboard (Experimental) | NOAA / NWS Space Weather ...',\n",
       "   'short_url': 'https://www.swpc.noaa.gov/communities/aurora-dashboard-experimental',\n",
       "   'value': 'https://www.swpc.noaa.gov/communities/aurora-dashboard-experimental'},\n",
       "  {'label': 'Edinburgh - BBC Weather',\n",
       "   'short_url': 'https://www.bbc.com/weather/2650225',\n",
       "   'value': 'https://www.bbc.com/weather/2650225'},\n",
       "  {'label': 'Hourly forecast for Edinburgh, Scotland, United Kingdom',\n",
       "   'short_url': 'https://www.timeanddate.com/weather/uk/edinburgh/hourly',\n",
       "   'value': 'https://www.timeanddate.com/weather/uk/edinburgh/hourly'},\n",
       "  {'label': 'EDI - Edinburgh Airport Current Weather and Airport Delay Conditions',\n",
       "   'short_url': 'https://www.flightstats.com/v2/airport-conditions/EDI',\n",
       "   'value': 'https://www.flightstats.com/v2/airport-conditions/EDI'},\n",
       "  {'label': 'Edinburgh - BBC Weather',\n",
       "   'short_url': 'https://www.bbc.com/weather/2650225',\n",
       "   'value': 'https://www.bbc.com/weather/2650225'},\n",
       "  {'label': 'Edinburgh (Edinburgh) weather - Met Office',\n",
       "   'short_url': 'https://weather.metoffice.gov.uk/forecast/gcvwr3zrw',\n",
       "   'value': 'https://weather.metoffice.gov.uk/forecast/gcvwr3zrw'},\n",
       "  {'label': '7-Day Forecast 39.36N 85.96W',\n",
       "   'short_url': 'https://forecast.weather.gov/MapClick.php?lat=39.35422&lon=-85.96666',\n",
       "   'value': 'https://forecast.weather.gov/MapClick.php?lat=39.35422&lon=-85.96666'},\n",
       "  {'label': 'Met Office: Weather and climate change',\n",
       "   'short_url': 'https://www.metoffice.gov.uk/',\n",
       "   'value': 'https://www.metoffice.gov.uk/'},\n",
       "  {'label': '7-Day Forecast 35.73N 83.49W',\n",
       "   'short_url': 'https://forecast.weather.gov/MapClick.php?site=mrx&map.x=193&map.y=181',\n",
       "   'value': 'https://forecast.weather.gov/MapClick.php?site=mrx&map.x=193&map.y=181'}],\n",
       " 'initial_search_query_count': 3,\n",
       " 'max_research_loops': 3,\n",
       " 'research_loop_count': 2}"
      ]
     },
     "execution_count": 12,
     "metadata": {},
     "output_type": "execute_result"
    }
   ],
   "source": [
    "state"
   ]
  },
  {
   "cell_type": "code",
   "execution_count": 13,
   "metadata": {},
   "outputs": [
    {
     "data": {
      "text/markdown": [
       "Today in Edinburgh, the weather is expected to start with a mix of sunny spells, patchy clouds, and isolated showers during the morning hours. As the afternoon progresses, the weather should become largely dry with extensive sunshine, especially in central and southern parts of Scotland. Winds are expected to be gentle to moderate throughout the day. Temperatures this morning are around 12°C (54°F), with similar conditions expected to persist through the day. Tonight, eastern and southern areas will remain mostly dry with clear skies. Overall, it should feel pleasantly mild with good visibility for much of the day (Met Office, https://weather.metoffice.gov.uk/forecast/gcvwr3zrw; BBC Weather, https://www.bbc.com/weather/2650225; FlightStats, https://www.flightstats.com/v2/airport-conditions/EDI; Time and Date, https://www.timeanddate.com/weather/uk/edinburgh/hourly)."
      ],
      "text/plain": [
       "<IPython.core.display.Markdown object>"
      ]
     },
     "execution_count": 13,
     "metadata": {},
     "output_type": "execute_result"
    }
   ],
   "source": [
    "from IPython.display import Markdown\n",
    "\n",
    "Markdown(state[\"messages\"][-1].content)"
   ]
  },
  {
   "cell_type": "code",
   "execution_count": 14,
   "metadata": {},
   "outputs": [],
   "source": [
    "state = graph.invoke({\"messages\": state[\"messages\"] + [{\"role\": \"user\", \"content\": \"How has the most titles? List the top 5\"}]})"
   ]
  },
  {
   "cell_type": "code",
   "execution_count": 16,
   "metadata": {},
   "outputs": [
    {
     "data": {
      "text/markdown": [
       "If you’re asking which club has the most UEFA Champions League titles—all-time as of 2025—the top 5 are as follows:\n",
       "\n",
       "1. **Real Madrid** – 15 titles  \n",
       "2. **AC Milan** – 7 titles  \n",
       "3. **Bayern Munich** – 6 titles  \n",
       "4. **Liverpool** – 6 titles  \n",
       "5. **Barcelona** – 5 titles\n",
       "\n",
       "Real Madrid leads by a wide margin, followed by AC Milan and then Bayern Munich and Liverpool (tied at six each). Barcelona rounds out the top five with five Champions League trophies to their name (Champions League all-time winners 2025| Statista, https://www.statista.com/statistics/378046/champions-league-titles-by-club/; UEFA Champions League - Wikipedia, https://en.wikipedia.org/wiki/UEFA_Champions_League)."
      ],
      "text/plain": [
       "<IPython.core.display.Markdown object>"
      ]
     },
     "execution_count": 16,
     "metadata": {},
     "output_type": "execute_result"
    }
   ],
   "source": [
    "Markdown(state[\"messages\"][-1].content)"
   ]
  },
  {
   "cell_type": "code",
   "execution_count": null,
   "metadata": {},
   "outputs": [],
   "source": []
  }
 ],
 "metadata": {
  "kernelspec": {
   "display_name": "langchain",
   "language": "python",
   "name": "python3"
  },
  "language_info": {
   "codemirror_mode": {
    "name": "ipython",
    "version": 3
   },
   "file_extension": ".py",
   "mimetype": "text/x-python",
   "name": "python",
   "nbconvert_exporter": "python",
   "pygments_lexer": "ipython3",
   "version": "3.10.17"
  }
 },
 "nbformat": 4,
 "nbformat_minor": 2
}
